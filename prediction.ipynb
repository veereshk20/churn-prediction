{
 "cells": [
  {
   "cell_type": "code",
   "execution_count": 3,
   "id": "f0c31fc5",
   "metadata": {},
   "outputs": [],
   "source": [
    "import numpy as np\n",
    "import pandas as pd\n",
    "import tensorflow as tf\n",
    "from tensorflow.keras.models import load_model\n",
    "import pickle"
   ]
  },
  {
   "cell_type": "code",
   "execution_count": 4,
   "id": "a934f1a6",
   "metadata": {},
   "outputs": [
    {
     "name": "stdout",
     "output_type": "stream",
     "text": [
      "WARNING:tensorflow:From c:\\Users\\Veeresh2025\\Desktop\\generative_ai\\ann-classification\\venv\\Lib\\site-packages\\keras\\src\\backend.py:1398: The name tf.executing_eagerly_outside_functions is deprecated. Please use tf.compat.v1.executing_eagerly_outside_functions instead.\n",
      "\n"
     ]
    }
   ],
   "source": [
    "model = load_model(\"model.h5\")\n",
    "\n",
    "with open(\"gender_encoder.pkl\", \"rb\") as file:\n",
    "    label_encoder_gender = pickle.load(file)\n",
    "\n",
    "with open(\"onehot_encoder_geo.pkl\", \"rb\") as file:\n",
    "    label_encoder_geo = pickle.load(file)\n",
    "\n",
    "with open(\"scalar.pkl\", \"rb\") as file:\n",
    "    scalar = pickle.load(file)"
   ]
  },
  {
   "cell_type": "code",
   "execution_count": 11,
   "id": "244187e2",
   "metadata": {},
   "outputs": [
    {
     "data": {
      "text/plain": [
       "array([[-0.53598516,  0.91324755,  0.10479359, -0.69539349, -0.25781119,\n",
       "         0.80843615,  0.64920267,  0.97481699, -0.87683221,  1.00150113,\n",
       "        -0.57946723, -0.57638802]])"
      ]
     },
     "execution_count": 11,
     "metadata": {},
     "output_type": "execute_result"
    }
   ],
   "source": [
    "#Testing on a sample input\n",
    "data = {\n",
    "    \"CreditScore\": 600,\n",
    "    \"Geography\": 'France',\n",
    "    \"Gender\": 'Male',\n",
    "    \"Age\": 40,\n",
    "    \"Tenure\": 3,\n",
    "    \"Balance\": 60000,\n",
    "    \"NumOfProducts\": 2,\n",
    "    \"HasCrCard\": 1,\n",
    "    \"IsActiveMember\": 1,\n",
    "    \"EstimatedSalary\": 50000\n",
    "}\n",
    "\n",
    "data = pd.DataFrame([data])\n",
    "\n",
    "data[\"Gender\"] = label_encoder_gender.transform(data[\"Gender\"])\n",
    "geo_encoded = label_encoder_geo.transform(data[[\"Geography\"]])\n",
    "geo_encoded_df = pd.DataFrame(geo_encoded.toarray(), columns=label_encoder_geo.get_feature_names_out([\"Geography\"]))\n",
    "data = pd.concat([data.drop([\"Geography\"], axis=1), geo_encoded_df], axis=1)\n",
    "data = scalar.transform(data)\n",
    "data"
   ]
  },
  {
   "cell_type": "code",
   "execution_count": 12,
   "id": "3d0ee67f",
   "metadata": {},
   "outputs": [
    {
     "name": "stdout",
     "output_type": "stream",
     "text": [
      "1/1 [==============================] - 0s 58ms/step\n"
     ]
    },
    {
     "data": {
      "text/plain": [
       "array([[0.05481208]], dtype=float32)"
      ]
     },
     "execution_count": 12,
     "metadata": {},
     "output_type": "execute_result"
    }
   ],
   "source": [
    "model.predict(data)"
   ]
  },
  {
   "cell_type": "code",
   "execution_count": null,
   "id": "64c4e4cc",
   "metadata": {},
   "outputs": [],
   "source": []
  }
 ],
 "metadata": {
  "kernelspec": {
   "display_name": "venv",
   "language": "python",
   "name": "python3"
  },
  "language_info": {
   "codemirror_mode": {
    "name": "ipython",
    "version": 3
   },
   "file_extension": ".py",
   "mimetype": "text/x-python",
   "name": "python",
   "nbconvert_exporter": "python",
   "pygments_lexer": "ipython3",
   "version": "3.11.6"
  }
 },
 "nbformat": 4,
 "nbformat_minor": 5
}
